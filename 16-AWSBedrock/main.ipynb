{
 "cells": [
  {
   "cell_type": "code",
   "execution_count": 1,
   "id": "9df64831",
   "metadata": {},
   "outputs": [],
   "source": [
    "import boto3\n",
    "import json"
   ]
  },
  {
   "cell_type": "code",
   "execution_count": 2,
   "id": "1d3ed5e8",
   "metadata": {},
   "outputs": [],
   "source": [
    "client = boto3.client('bedrock-runtime')"
   ]
  },
  {
   "cell_type": "code",
   "execution_count": 9,
   "id": "71502636",
   "metadata": {},
   "outputs": [
    {
     "name": "stdout",
     "output_type": "stream",
     "text": [
      "{'ResponseMetadata': {'RequestId': 'd552f515-a4ba-4839-a0a4-3f0625864870', 'HTTPStatusCode': 200, 'HTTPHeaders': {'date': 'Sun, 12 Oct 2025 13:42:07 GMT', 'content-type': 'application/json', 'content-length': '366', 'connection': 'keep-alive', 'x-amzn-requestid': 'd552f515-a4ba-4839-a0a4-3f0625864870'}, 'RetryAttempts': 0}, 'output': {'message': {'role': 'assistant', 'content': [{'text': 'Time complexity measures how algorithm runtime grows with input size, using Big O notation. It describes best, average, and worst-case scenarios for execution time.'}]}}, 'stopReason': 'end_turn', 'usage': {'inputTokens': 31, 'outputTokens': 31, 'totalTokens': 62}, 'metrics': {'latencyMs': 502}}\n"
     ]
    }
   ],
   "source": [
    "model_id = 'qwen.qwen3-coder-30b-a3b-v1:0'\n",
    "\n",
    "user_query = 'explain time complexity'\n",
    "\n",
    "conversation = [{\n",
    "    'role':'assistant',\n",
    "    'content':[{'text':'Your are a helpfulbot answer the question within word limit of 50'}]},\n",
    "    {\n",
    "    'role':'user',\n",
    "    'content':[{'text':user_query}]\n",
    "}]\n",
    "\n",
    "response = client.converse(modelId = model_id,messages = conversation)\n",
    "\n",
    "print(response)"
   ]
  },
  {
   "cell_type": "code",
   "execution_count": 10,
   "id": "a63f6382",
   "metadata": {},
   "outputs": [
    {
     "name": "stdout",
     "output_type": "stream",
     "text": [
      "Time complexity measures how algorithm runtime grows with input size, using Big O notation. It describes best, average, and worst-case scenarios for execution time.\n"
     ]
    }
   ],
   "source": [
    "print(response['output']['message']['content'][0]['text'])"
   ]
  }
 ],
 "metadata": {
  "kernelspec": {
   "display_name": "venv",
   "language": "python",
   "name": "python3"
  },
  "language_info": {
   "codemirror_mode": {
    "name": "ipython",
    "version": 3
   },
   "file_extension": ".py",
   "mimetype": "text/x-python",
   "name": "python",
   "nbconvert_exporter": "python",
   "pygments_lexer": "ipython3",
   "version": "3.11.9"
  }
 },
 "nbformat": 4,
 "nbformat_minor": 5
}
