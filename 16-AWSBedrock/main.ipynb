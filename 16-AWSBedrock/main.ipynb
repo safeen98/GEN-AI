{
 "cells": [
  {
   "cell_type": "code",
   "execution_count": 1,
   "id": "9df64831",
   "metadata": {},
   "outputs": [],
   "source": [
    "import boto3\n",
    "import json"
   ]
  },
  {
   "cell_type": "code",
   "execution_count": 5,
   "id": "1d3ed5e8",
   "metadata": {},
   "outputs": [],
   "source": [
    "client = boto3.client('bedrock-runtime')"
   ]
  },
  {
   "cell_type": "code",
   "execution_count": null,
   "id": "71502636",
   "metadata": {},
   "outputs": [
    {
     "name": "stdout",
     "output_type": "stream",
     "text": [
      "{'ResponseMetadata': {'RequestId': '0027afea-633f-4e1a-aab1-3d1a8adacd35', 'HTTPStatusCode': 200, 'HTTPHeaders': {'date': 'Sun, 12 Oct 2025 04:53:22 GMT', 'content-type': 'application/json', 'content-length': '2982', 'connection': 'keep-alive', 'x-amzn-requestid': '0027afea-633f-4e1a-aab1-3d1a8adacd35'}, 'RetryAttempts': 0}, 'output': {'message': {'role': 'assistant', 'content': [{'text': \"# Time Complexity Explained\\n\\nTime complexity is a measure of how the runtime of an algorithm grows as the input size increases. It's expressed using **Big O notation** and helps us understand the efficiency of algorithms.\\n\\n## Why It Matters\\n\\nWhen choosing between algorithms, time complexity helps us predict:\\n- How slow an algorithm might become with large inputs\\n- Which algorithm scales better\\n- Performance trade-offs\\n\\n## Big O Notation\\n\\nBig O describes the **upper bound** (worst-case scenario) of an algorithm's growth rate:\\n\\n- **O(1)** - Constant time\\n- **O(log n)** - Logarithmic time\\n- **O(n)** - Linear time\\n- **O(n log n)** - Linearithmic time\\n- **O(n²)** - Quadratic time\\n- **O(2ⁿ)** - Exponential time\\n\\n## Common Time Complexities\\n\\n### O(1) - Constant Time\\n```python\\ndef get_first_element(arr):\\n    return arr[0]  # Always takes same time, regardless of array size\\n```\\n\\n### O(log n) - Logarithmic Time\\n```python\\ndef binary_search(arr, target):\\n    left, right = 0, len(arr) - 1\\n    while left <= right:\\n        mid = (left + right) // 2\\n        if arr[mid] == target:\\n            return mid\\n        elif arr[mid] < target:\\n            left = mid + 1\\n        else:\\n            right = mid - 1\\n    return -1\\n```\\n\\n### O(n) - Linear Time\\n```python\\ndef find_max(arr):\\n    max_val = arr[0]\\n    for i in range(1, len(arr)):\\n        if arr[i] > max_val:\\n            max_val = arr[i]\\n    return max_val\\n```\\n\\n### O(n²) - Quadratic Time\\n```python\\ndef bubble_sort(arr):\\n    n = len(arr)\\n    for i in range(n):\\n        for j in range(0, n - i - 1):\\n            if arr[j] > arr[j + 1]:\\n                arr[j], arr[j + 1] = arr[j + 1], arr[j]\\n```\\n\\n## Key Principles\\n\\n1. **Drop constants**: O(2n) becomes O(n)\\n2. **Drop lower-order terms**: O(n² + n) becomes O(n²)\\n3. **Focus on worst case**: We usually analyze worst-case performance\\n4. **Consider dominant operations**: The operation that grows fastest determines complexity\\n\\n## Practical Example\\n\\n```python\\n# O(n²) - Nested loops\\ndef find_pairs(arr):\\n    pairs = []\\n    for i in range(len(arr)):\\n        for j in range(i + 1, len(arr)):  # Nested loop\\n            pairs.append((arr[i], arr[j]))\\n    return pairs\\n\\n# O(n) - Single loop\\ndef find_max(arr):\\n    max_val = arr[0]\\n    for num in arr:  # Single loop\\n        if num > max_val:\\n            max_val = num\\n    return max_val\\n```\\n\\n## Memory vs Time Trade-offs\\n\\nSometimes optimizing time complexity requires more space:\\n- **Hash tables**: O(1) lookup but O(n) extra space\\n- **Caching**: O(n) extra space but O(1) lookup after first computation\\n\\nUnderstanding time complexity helps you write more efficient algorithms and make informed decisions in software development!\"}]}}, 'stopReason': 'end_turn', 'usage': {'inputTokens': 11, 'outputTokens': 712, 'totalTokens': 723}, 'metrics': {'latencyMs': 2891}}\n"
     ]
    }
   ],
   "source": [
    "model_id = 'qwen.qwen3-coder-30b-a3b-v1:0'\n",
    "\n",
    "user_query = 'explain time complexity'\n",
    "\n",
    "conversation = [{\n",
    "    'role':'user',\n",
    "    'content':[{'text':user_query}]\n",
    "}]\n",
    "\n",
    "response = client.converse(modelId = model_id,messages = conversation)\n",
    "\n",
    "print(response['output']['messages']['content'][0]['text'])"
   ]
  },
  {
   "cell_type": "code",
   "execution_count": 10,
   "id": "a63f6382",
   "metadata": {},
   "outputs": [
    {
     "name": "stdout",
     "output_type": "stream",
     "text": [
      "# Time Complexity Explained\n",
      "\n",
      "Time complexity is a measure of how the runtime of an algorithm grows as the input size increases. It's expressed using **Big O notation** and helps us understand the efficiency of algorithms.\n",
      "\n",
      "## Why It Matters\n",
      "\n",
      "When choosing between algorithms, time complexity helps us predict:\n",
      "- How slow an algorithm might become with large inputs\n",
      "- Which algorithm scales better\n",
      "- Performance trade-offs\n",
      "\n",
      "## Big O Notation\n",
      "\n",
      "Big O describes the **upper bound** (worst-case scenario) of an algorithm's growth rate:\n",
      "\n",
      "- **O(1)** - Constant time\n",
      "- **O(log n)** - Logarithmic time\n",
      "- **O(n)** - Linear time\n",
      "- **O(n log n)** - Linearithmic time\n",
      "- **O(n²)** - Quadratic time\n",
      "- **O(2ⁿ)** - Exponential time\n",
      "\n",
      "## Common Time Complexities\n",
      "\n",
      "### O(1) - Constant Time\n",
      "```python\n",
      "def get_first_element(arr):\n",
      "    return arr[0]  # Always takes same time, regardless of array size\n",
      "```\n",
      "\n",
      "### O(log n) - Logarithmic Time\n",
      "```python\n",
      "def binary_search(arr, target):\n",
      "    left, right = 0, len(arr) - 1\n",
      "    while left <= right:\n",
      "        mid = (left + right) // 2\n",
      "        if arr[mid] == target:\n",
      "            return mid\n",
      "        elif arr[mid] < target:\n",
      "            left = mid + 1\n",
      "        else:\n",
      "            right = mid - 1\n",
      "    return -1\n",
      "```\n",
      "\n",
      "### O(n) - Linear Time\n",
      "```python\n",
      "def find_max(arr):\n",
      "    max_val = arr[0]\n",
      "    for i in range(1, len(arr)):\n",
      "        if arr[i] > max_val:\n",
      "            max_val = arr[i]\n",
      "    return max_val\n",
      "```\n",
      "\n",
      "### O(n²) - Quadratic Time\n",
      "```python\n",
      "def bubble_sort(arr):\n",
      "    n = len(arr)\n",
      "    for i in range(n):\n",
      "        for j in range(0, n - i - 1):\n",
      "            if arr[j] > arr[j + 1]:\n",
      "                arr[j], arr[j + 1] = arr[j + 1], arr[j]\n",
      "```\n",
      "\n",
      "## Key Principles\n",
      "\n",
      "1. **Drop constants**: O(2n) becomes O(n)\n",
      "2. **Drop lower-order terms**: O(n² + n) becomes O(n²)\n",
      "3. **Focus on worst case**: We usually analyze worst-case performance\n",
      "4. **Consider dominant operations**: The operation that grows fastest determines complexity\n",
      "\n",
      "## Practical Example\n",
      "\n",
      "```python\n",
      "# O(n²) - Nested loops\n",
      "def find_pairs(arr):\n",
      "    pairs = []\n",
      "    for i in range(len(arr)):\n",
      "        for j in range(i + 1, len(arr)):  # Nested loop\n",
      "            pairs.append((arr[i], arr[j]))\n",
      "    return pairs\n",
      "\n",
      "# O(n) - Single loop\n",
      "def find_max(arr):\n",
      "    max_val = arr[0]\n",
      "    for num in arr:  # Single loop\n",
      "        if num > max_val:\n",
      "            max_val = num\n",
      "    return max_val\n",
      "```\n",
      "\n",
      "## Memory vs Time Trade-offs\n",
      "\n",
      "Sometimes optimizing time complexity requires more space:\n",
      "- **Hash tables**: O(1) lookup but O(n) extra space\n",
      "- **Caching**: O(n) extra space but O(1) lookup after first computation\n",
      "\n",
      "Understanding time complexity helps you write more efficient algorithms and make informed decisions in software development!\n"
     ]
    }
   ],
   "source": [
    "print(response['output']['message']['content'][0]['text'])"
   ]
  },
  {
   "cell_type": "code",
   "execution_count": null,
   "id": "3a75142c",
   "metadata": {},
   "outputs": [],
   "source": []
  }
 ],
 "metadata": {
  "kernelspec": {
   "display_name": "venv",
   "language": "python",
   "name": "python3"
  },
  "language_info": {
   "codemirror_mode": {
    "name": "ipython",
    "version": 3
   },
   "file_extension": ".py",
   "mimetype": "text/x-python",
   "name": "python",
   "nbconvert_exporter": "python",
   "pygments_lexer": "ipython3",
   "version": "3.11.9"
  }
 },
 "nbformat": 4,
 "nbformat_minor": 5
}
