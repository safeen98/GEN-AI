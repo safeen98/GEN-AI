{
 "cells": [
  {
   "cell_type": "markdown",
   "id": "43aea7e5",
   "metadata": {},
   "source": [
    "### Build a Simple LLM Application with LCEL\n",
    "In this quickstart we'll show you how to build a simple LLM application with LangChain. This application will translate text from English into another language. This is a relatively simple LLM application - it's just a single LLM call plus some prompting. Still, this is a great way to get started with LangChain - a lot of features can be built with just some prompting and an LLM call!\n",
    "\n",
    "After seeing this video, you'll have a high level overview of:\n",
    "\n",
    "- Using language models\n",
    "\n",
    "- Using PromptTemplates and OutputParsers\n",
    "\n",
    "- Using LangChain Expression Language (LCEL) to chain components together\n",
    "\n",
    "- Debugging and tracing your application using LangSmith\n",
    "\n",
    "- Deploying your application with LangServe"
   ]
  },
  {
   "cell_type": "code",
   "execution_count": 28,
   "id": "59ab26f2",
   "metadata": {},
   "outputs": [],
   "source": [
    "import os\n",
    "from dotenv import load_dotenv\n",
    "load_dotenv()\n",
    "\n",
    "os.environ[\"GROQ_API_KEY\"] = os.getenv(\"GROQ_API_KEY\")"
   ]
  },
  {
   "cell_type": "code",
   "execution_count": 29,
   "id": "ebcd8864",
   "metadata": {},
   "outputs": [],
   "source": [
    "from langchain_groq import ChatGroq\n",
    "\n",
    "model=ChatGroq(model=\"llama-3.3-70b-versatile\")"
   ]
  },
  {
   "cell_type": "code",
   "execution_count": 30,
   "id": "ac58a41b",
   "metadata": {},
   "outputs": [],
   "source": [
    "from langchain_core.messages import HumanMessage , SystemMessage\n",
    "\n",
    "messages = [\n",
    "    SystemMessage(content=\"Translate the following from English to French\"),\n",
    "    HumanMessage(content = \"Hello my name is Safeen Khan\")\n",
    "]\n",
    "response = model.invoke(messages)\n"
   ]
  },
  {
   "cell_type": "markdown",
   "id": "2a7cbb86",
   "metadata": {},
   "source": [
    "We can see we have a lot a data coming from in response , but the major part is inside the content , so we can use strParser to get this data only"
   ]
  },
  {
   "cell_type": "code",
   "execution_count": 31,
   "id": "ffb769fd",
   "metadata": {},
   "outputs": [
    {
     "data": {
      "text/plain": [
       "\"Bonjour, je m'appelle Safeen Khan.\""
      ]
     },
     "execution_count": 31,
     "metadata": {},
     "output_type": "execute_result"
    }
   ],
   "source": [
    "from langchain_core.output_parsers import StrOutputParser\n",
    "\n",
    "parser = StrOutputParser()\n",
    "\n",
    "result = parser.invoke(response)\n",
    "result"
   ]
  },
  {
   "cell_type": "markdown",
   "id": "adcaa3df",
   "metadata": {},
   "source": [
    "Not Instead of doing all this we can use chain using the Langchain Expression Language"
   ]
  },
  {
   "cell_type": "code",
   "execution_count": 32,
   "id": "eeed6ecb",
   "metadata": {},
   "outputs": [
    {
     "data": {
      "text/plain": [
       "\"Bonjour, je m'appelle Safeen Khan.\""
      ]
     },
     "execution_count": 32,
     "metadata": {},
     "output_type": "execute_result"
    }
   ],
   "source": [
    "chain = model | parser\n",
    "\n",
    "chain.invoke(messages)"
   ]
  },
  {
   "cell_type": "markdown",
   "id": "2528a81d",
   "metadata": {},
   "source": [
    "## Prompt Template\n",
    "Now what we have done above is just for single language and for single sentence , but using prompt template we can parameterize this"
   ]
  },
  {
   "cell_type": "code",
   "execution_count": 33,
   "id": "3f0bb8b1",
   "metadata": {},
   "outputs": [
    {
     "data": {
      "text/plain": [
       "ChatPromptValue(messages=[SystemMessage(content='Translate the following in French', additional_kwargs={}, response_metadata={}), HumanMessage(content='Hello', additional_kwargs={}, response_metadata={})])"
      ]
     },
     "execution_count": 33,
     "metadata": {},
     "output_type": "execute_result"
    }
   ],
   "source": [
    "from langchain_core.prompts import ChatPromptTemplate\n",
    "\n",
    "generic_template = \"Translate the following in {language}\"\n",
    "\n",
    "prompt = ChatPromptTemplate.from_messages([\n",
    "    (\"system\",generic_template),(\"user\",\"{text}\")\n",
    "])\n",
    "\n",
    "prompt.invoke({\n",
    "    \"language\":\"French\",\n",
    "    \"text\":\"Hello\"\n",
    "})"
   ]
  },
  {
   "cell_type": "markdown",
   "id": "06b62cba",
   "metadata": {},
   "source": [
    "Now using the same  chaining methord we can pass this to our model and get the value"
   ]
  },
  {
   "cell_type": "code",
   "execution_count": 43,
   "id": "450c8836",
   "metadata": {},
   "outputs": [
    {
     "data": {
      "text/plain": [
       "'Bonjour'"
      ]
     },
     "execution_count": 43,
     "metadata": {},
     "output_type": "execute_result"
    }
   ],
   "source": [
    "\n",
    "chain=prompt|model|parser\n",
    "\n",
    "chain.invoke({\"language\":\"French\",\"text\":\"Hello\"})"
   ]
  }
 ],
 "metadata": {
  "kernelspec": {
   "display_name": "venv",
   "language": "python",
   "name": "python3"
  },
  "language_info": {
   "codemirror_mode": {
    "name": "ipython",
    "version": 3
   },
   "file_extension": ".py",
   "mimetype": "text/x-python",
   "name": "python",
   "nbconvert_exporter": "python",
   "pygments_lexer": "ipython3",
   "version": "3.11.9"
  }
 },
 "nbformat": 4,
 "nbformat_minor": 5
}
