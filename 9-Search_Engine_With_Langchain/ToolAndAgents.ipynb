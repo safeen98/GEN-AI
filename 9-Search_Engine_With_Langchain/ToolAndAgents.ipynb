{
 "cells": [
  {
   "cell_type": "markdown",
   "id": "2fa41e8f",
   "metadata": {},
   "source": [
    "### Search Engine with Tools and Agents"
   ]
  },
  {
   "cell_type": "code",
   "execution_count": 1,
   "id": "e1c60d3e",
   "metadata": {},
   "outputs": [],
   "source": [
    "from langchain_community.tools import WikipediaQueryRun , ArxivQueryRun\n",
    "from langchain_community.utilities import WikipediaAPIWrapper , ArxivAPIWrapper"
   ]
  },
  {
   "cell_type": "code",
   "execution_count": 3,
   "id": "0deb9617",
   "metadata": {},
   "outputs": [],
   "source": [
    "api_wrapper_wiki = WikipediaAPIWrapper(top_k_results=1,doc_content_chars_max=500)\n",
    "wiki = WikipediaQueryRun(api_wrapper=api_wrapper_wiki)"
   ]
  },
  {
   "cell_type": "code",
   "execution_count": 5,
   "id": "c1ac9de7",
   "metadata": {},
   "outputs": [],
   "source": [
    "api_wrapper_arxiv = ArxivAPIWrapper(top_k_results=1,doc_content_chars_max=500)\n",
    "arxiv = ArxivQueryRun(api_wrapper=api_wrapper_arxiv)"
   ]
  },
  {
   "cell_type": "code",
   "execution_count": 6,
   "id": "11cbeb50",
   "metadata": {},
   "outputs": [],
   "source": [
    "tools = [wiki,arxiv]"
   ]
  },
  {
   "cell_type": "code",
   "execution_count": 7,
   "id": "f6c4cf4a",
   "metadata": {},
   "outputs": [],
   "source": [
    "from langchain_groq import ChatGroq\n",
    "from dotenv import load_dotenv\n",
    "import os\n",
    "os.environ['GROQ_API_KEY'] = os.getenv('GROQ_API_KEY')\n",
    "llm = ChatGroq(model='meta-llama/llama-4-maverick-17b-128e-instruct')"
   ]
  },
  {
   "cell_type": "code",
   "execution_count": 8,
   "id": "11de95d9",
   "metadata": {},
   "outputs": [],
   "source": [
    "from langchain import hub\n",
    "\n",
    "prompts = hub.pull('hwchase17/openai-functions-agent')"
   ]
  },
  {
   "cell_type": "code",
   "execution_count": 9,
   "id": "0651f59f",
   "metadata": {},
   "outputs": [],
   "source": [
    "from langchain.agents import create_openai_tools_agent\n",
    "agent = create_openai_tools_agent(llm,tools,prompts)"
   ]
  },
  {
   "cell_type": "code",
   "execution_count": 10,
   "id": "0a3d6c58",
   "metadata": {},
   "outputs": [],
   "source": [
    "from langchain.agents import AgentExecutor\n",
    "\n",
    "agent_executor = AgentExecutor(agent=agent,tools=tools,verbose=True)"
   ]
  },
  {
   "cell_type": "code",
   "execution_count": 11,
   "id": "e51f34c4",
   "metadata": {},
   "outputs": [
    {
     "name": "stdout",
     "output_type": "stream",
     "text": [
      "\n",
      "\n",
      "\u001b[1m> Entering new AgentExecutor chain...\u001b[0m\n",
      "\u001b[32;1m\u001b[1;3m\n",
      "Invoking: `wikipedia` with `{'query': 'World War 2'}`\n",
      "\n",
      "\n",
      "\u001b[0m\u001b[36;1m\u001b[1;3mPage: World War II\n",
      "Summary: World War II or the Second World War (1 September 1939 – 2 September 1945) was a global conflict between two coalitions: the Allies and the Axis powers. Nearly all of the world's countries participated, with many nations mobilising all resources in pursuit of total war. Tanks and aircraft played major roles, enabling the strategic bombing of cities and delivery of the first and only nuclear weapons ever used in war. World War II is the deadliest conflict in history, c\u001b[0m\u001b[32;1m\u001b[1;3mWorld War II, also known as the Second World War, was a global conflict that lasted from 1939 to 1945. It was fought between two main coalitions: the Allies and the Axis powers. The war involved most of the world's countries and resulted in significant human suffering, with many nations mobilizing all their resources in pursuit of total war. The conflict saw the introduction of new military technologies, including tanks and aircraft, which played a major role in the war. It also witnessed the strategic bombing of cities and the use of nuclear weapons, making it the deadliest conflict in human history.\u001b[0m\n",
      "\n",
      "\u001b[1m> Finished chain.\u001b[0m\n"
     ]
    },
    {
     "data": {
      "text/plain": [
       "{'input': 'Tell me about world war 2',\n",
       " 'output': \"World War II, also known as the Second World War, was a global conflict that lasted from 1939 to 1945. It was fought between two main coalitions: the Allies and the Axis powers. The war involved most of the world's countries and resulted in significant human suffering, with many nations mobilizing all their resources in pursuit of total war. The conflict saw the introduction of new military technologies, including tanks and aircraft, which played a major role in the war. It also witnessed the strategic bombing of cities and the use of nuclear weapons, making it the deadliest conflict in human history.\"}"
      ]
     },
     "execution_count": 11,
     "metadata": {},
     "output_type": "execute_result"
    }
   ],
   "source": [
    "agent_executor.invoke({'input':'Tell me about world war 2'})"
   ]
  },
  {
   "cell_type": "code",
   "execution_count": null,
   "id": "de80661e",
   "metadata": {},
   "outputs": [],
   "source": []
  }
 ],
 "metadata": {
  "kernelspec": {
   "display_name": "venv",
   "language": "python",
   "name": "python3"
  },
  "language_info": {
   "codemirror_mode": {
    "name": "ipython",
    "version": 3
   },
   "file_extension": ".py",
   "mimetype": "text/x-python",
   "name": "python",
   "nbconvert_exporter": "python",
   "pygments_lexer": "ipython3",
   "version": "3.11.9"
  }
 },
 "nbformat": 4,
 "nbformat_minor": 5
}
