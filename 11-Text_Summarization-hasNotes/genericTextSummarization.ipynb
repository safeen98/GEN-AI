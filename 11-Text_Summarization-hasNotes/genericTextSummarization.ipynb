{
 "cells": [
  {
   "cell_type": "markdown",
   "id": "3cdf7008",
   "metadata": {},
   "source": [
    "## Text Summarization\n",
    "As we have seen LLM model where basic created or the architecture they are made on was created for tranlation or summarization taks , so they are pretty good at this .\n",
    "So if we want to summarize a small speech or some article we can directly pass that to the LLM and it can summarize it , using the process we have seen before like creating a prompt from ChatPromptTemplate and creating a chain , passing that to an llm etc.\n",
    "But the main issue here is , the token size , using the above methord we cannot summzarize a large file , as it will create the token size issue\n",
    "For that we have the below 2 options :\n",
    "1 :- Stuff documents\n",
    "2 :- Maps and Reduce"
   ]
  },
  {
   "cell_type": "code",
   "execution_count": 4,
   "id": "57a089a7",
   "metadata": {},
   "outputs": [],
   "source": [
    "import os\n",
    "from dotenv import load_dotenv\n",
    "from langchain_groq import ChatGroq\n",
    "from langchain.prompts import ChatPromptTemplate\n",
    "from langchain.schema import SystemMessage,HumanMessage\n",
    "\n",
    "load_dotenv()\n",
    "\n",
    "os.environ['GROQ_API_KEY'] = os.getenv('GROQ_API_KEY')\n",
    "\n",
    "llm = ChatGroq(model='llama-3.3-70b-versatile')\n",
    "\n",
    "speech = \"\"\"\n",
    "Many people start new goals with excitement, but few keep going when things get difficult. Consistency is the key to real success. \n",
    "It’s not about doing big things once; it’s about doing small actions every day. Whether you’re learning a skill, exercising, or saving \n",
    "money, progress comes from steady effort. When motivation fades, consistency keeps you moving forward. In the end, regular effort always\n",
    " produces better results than occasional bursts of energy.\n",
    "\"\"\""
   ]
  },
  {
   "cell_type": "code",
   "execution_count": 2,
   "id": "06f0c850",
   "metadata": {},
   "outputs": [
    {
     "data": {
      "text/plain": [
       "103"
      ]
     },
     "execution_count": 2,
     "metadata": {},
     "output_type": "execute_result"
    }
   ],
   "source": [
    "llm.get_num_tokens(speech)"
   ]
  },
  {
   "cell_type": "code",
   "execution_count": 8,
   "id": "bde13ee5",
   "metadata": {},
   "outputs": [
    {
     "data": {
      "text/plain": [
       "AIMessage(content=\"The key to achieving success is consistency, not motivation or occasional big efforts. Making small, steady progress every day is more effective than trying to do big things occasionally, and it's what ultimately leads to real success.\", additional_kwargs={}, response_metadata={'token_usage': {'completion_tokens': 44, 'prompt_tokens': 138, 'total_tokens': 182, 'completion_time': 0.160246649, 'prompt_time': 0.007401745, 'queue_time': 0.04886044, 'total_time': 0.167648394}, 'model_name': 'llama-3.3-70b-versatile', 'system_fingerprint': 'fp_155ab82e98', 'service_tier': 'on_demand', 'finish_reason': 'stop', 'logprobs': None}, id='run--43f8baa4-6d42-4d70-b257-e48b58861b82-0', usage_metadata={'input_tokens': 138, 'output_tokens': 44, 'total_tokens': 182})"
      ]
     },
     "execution_count": 8,
     "metadata": {},
     "output_type": "execute_result"
    }
   ],
   "source": [
    "prompt = ChatPromptTemplate.from_messages([\n",
    "        SystemMessage(content='Your are expert in summarizing , summarize the text provided'),\n",
    "        ('human','{input}')\n",
    "\n",
    "])\n",
    "chain = prompt | llm\n",
    "response = chain.invoke({\"input\":speech})\n",
    "response"
   ]
  }
 ],
 "metadata": {
  "kernelspec": {
   "display_name": "venv",
   "language": "python",
   "name": "python3"
  },
  "language_info": {
   "codemirror_mode": {
    "name": "ipython",
    "version": 3
   },
   "file_extension": ".py",
   "mimetype": "text/x-python",
   "name": "python",
   "nbconvert_exporter": "python",
   "pygments_lexer": "ipython3",
   "version": "3.11.9"
  }
 },
 "nbformat": 4,
 "nbformat_minor": 5
}
